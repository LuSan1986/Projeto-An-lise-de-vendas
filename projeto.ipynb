{
 "cells": [
  {
   "cell_type": "markdown",
   "metadata": {},
   "source": [
    "Análise de Vendas"
   ]
  },
  {
   "cell_type": "code",
   "execution_count": 2,
   "metadata": {},
   "outputs": [],
   "source": [
    "import pandas as pd "
   ]
  },
  {
   "cell_type": "code",
   "execution_count": 3,
   "metadata": {},
   "outputs": [
    {
     "name": "stdout",
     "output_type": "stream",
     "text": [
      "  User_ID,Cust_name,Product_ID,Gender,Age Group,Age,Marital_Status,State,Zone,Occupation,Product_Category,Orders,Amount,Status,unnamed1\n",
      "0  1002903,Sanskriti,P00125942,F,26-35,28,0,Mahar...                                                                                   \n",
      "1  1000732,Kartik,P00110942,F,26-35,35,1,Andhra P...                                                                                   \n",
      "2  1001990,Bindu,P00118542,F,26-35,35,1,Uttar Pra...                                                                                   \n",
      "3  1001425,Sudevi,P00237842,M,0-17,16,0,Karnataka...                                                                                   \n",
      "4  1000588,Joni,P00057942,M,26-35,28,1,Gujarat,We...                                                                                   \n"
     ]
    }
   ],
   "source": [
    "\n",
    "# Tente usar uma codificação diferente, como 'ISO-8859-1'\n",
    "df = pd.read_csv(\"Diwali Sales Data.csv\", sep=\";\", encoding=\"ISO-8859-1\", on_bad_lines='skip')\n",
    "# sep=\";\": Indica que o separador de colunas no arquivo CSV é o ponto e vírgula (;). Ou seja, os valores são divididos por ponto e vírgula.\n",
    "# encoding=\"ISO-8859-1\": Define a codificação do arquivo como ISO-8859-1 (também chamada de latin1). Isso ajuda a lidar com caracteres especiais e acentuados.\n",
    "# on_bad_lines='skip': Se houver linhas com erro (por exemplo, com formato incorreto), essas linhas serão ignoradas (não serão carregadas no DataFrame).\n",
    "print(df.head())\n"
   ]
  },
  {
   "cell_type": "code",
   "execution_count": 4,
   "metadata": {},
   "outputs": [
    {
     "name": "stdout",
     "output_type": "stream",
     "text": [
      "Index(['User_ID,Cust_name,Product_ID,Gender,Age Group,Age,Marital_Status,State,Zone,Occupation,Product_Category,Orders,Amount,Status,unnamed1'], dtype='object')\n"
     ]
    }
   ],
   "source": [
    "df.columns\n",
    "\n",
    "print(df.columns)"
   ]
  },
  {
   "cell_type": "code",
   "execution_count": 5,
   "metadata": {},
   "outputs": [
    {
     "name": "stdout",
     "output_type": "stream",
     "text": [
      "   User_ID  Cust_name Product_ID Gender Age Group  Age  Marital_Status  \\\n",
      "0  1002903  Sanskriti  P00125942      F     26-35   28               0   \n",
      "1  1000732     Kartik  P00110942      F     26-35   35               1   \n",
      "2  1001990      Bindu  P00118542      F     26-35   35               1   \n",
      "3  1001425     Sudevi  P00237842      M      0-17   16               0   \n",
      "4  1000588       Joni  P00057942      M     26-35   28               1   \n",
      "\n",
      "            State      Zone       Occupation Product_Category  Orders  \\\n",
      "0     Maharashtra   Western       Healthcare             Auto       1   \n",
      "1  Andhra Pradesh  Southern             Govt             Auto       3   \n",
      "2   Uttar Pradesh   Central       Automobile             Auto       3   \n",
      "3       Karnataka  Southern     Construction             Auto       2   \n",
      "4         Gujarat   Western  Food Processing             Auto       2   \n",
      "\n",
      "    Amount  Status  unnamed1  \n",
      "0  23952.0     NaN       NaN  \n",
      "1  23934.0     NaN       NaN  \n",
      "2  23924.0     NaN       NaN  \n",
      "3  23912.0     NaN       NaN  \n",
      "4  23877.0     NaN       NaN  \n"
     ]
    }
   ],
   "source": [
    "# Carregar o CSV corretamente\n",
    "df = pd.read_csv('Diwali Sales Data.csv', encoding='unicode_escape')\n",
    "# O parâmetro encoding define o tipo de codificação de caracteres usada no arquivo de entrada.\n",
    "#A codificação unicode_escape é uma forma de tratar caracteres especiais que podem aparecer no arquivo, como aqueles que estão fora do padrão ASCII. Isso pode ser necessário para evitar erros ao ler arquivos que contêm caracteres especiais (como acentos ou outros símbolos).\n",
    "\n",
    "# Verificar as primeiras linhas para conferir se o cabeçalho foi carregado corretamente\n",
    "print(df.head())"
   ]
  },
  {
   "cell_type": "code",
   "execution_count": 6,
   "metadata": {},
   "outputs": [],
   "source": [
    "# Para traduzir para o português:\n",
    "\n",
    "df = df.rename(columns={\"User_ID\":\"ID_do_Usuário\",\"Cust_name\": \"Nome_do_cliente\", \"Product_ID\":\"ID_Produto\", \"Gender\":\"Gênero\",\"Age Group\":\"Faixa etária\", \"Age\":\"Idade\",\"Marital_Status\":\"Estado Civil\", \"State\": \"Estado\", \"Zone\":\"Zona\", \"Occupation\":\"Ocupação\", \"Product_Category\":\"Categoria_Produto\", \"Orders\":\"Pedido\", \"Amount\":\"Valor_Total_Pedido\", \"Status\":\"1Estado\",\"unnamed1\":\"sem nome1\"})\n"
   ]
  },
  {
   "cell_type": "code",
   "execution_count": 41,
   "metadata": {},
   "outputs": [
    {
     "data": {
      "text/html": [
       "<div>\n",
       "<style scoped>\n",
       "    .dataframe tbody tr th:only-of-type {\n",
       "        vertical-align: middle;\n",
       "    }\n",
       "\n",
       "    .dataframe tbody tr th {\n",
       "        vertical-align: top;\n",
       "    }\n",
       "\n",
       "    .dataframe thead th {\n",
       "        text-align: right;\n",
       "    }\n",
       "</style>\n",
       "<table border=\"1\" class=\"dataframe\">\n",
       "  <thead>\n",
       "    <tr style=\"text-align: right;\">\n",
       "      <th></th>\n",
       "      <th>ID_do_Usuário</th>\n",
       "      <th>Nome_do_cliente</th>\n",
       "      <th>ID_Produto</th>\n",
       "      <th>Gênero</th>\n",
       "      <th>Faixa etária</th>\n",
       "      <th>Idade</th>\n",
       "      <th>Estado Civil</th>\n",
       "      <th>Estado</th>\n",
       "      <th>Zona</th>\n",
       "      <th>Ocupação</th>\n",
       "      <th>Categoria_Produto</th>\n",
       "      <th>Pedido</th>\n",
       "      <th>Valor_Total_Pedido</th>\n",
       "    </tr>\n",
       "  </thead>\n",
       "  <tbody>\n",
       "    <tr>\n",
       "      <th>0</th>\n",
       "      <td>1002903</td>\n",
       "      <td>Sanskriti</td>\n",
       "      <td>P00125942</td>\n",
       "      <td>F</td>\n",
       "      <td>26-35</td>\n",
       "      <td>28</td>\n",
       "      <td>0</td>\n",
       "      <td>Maharashtra</td>\n",
       "      <td>Western</td>\n",
       "      <td>Healthcare</td>\n",
       "      <td>Auto</td>\n",
       "      <td>1</td>\n",
       "      <td>R$ 23,952.00</td>\n",
       "    </tr>\n",
       "    <tr>\n",
       "      <th>1</th>\n",
       "      <td>1000732</td>\n",
       "      <td>Kartik</td>\n",
       "      <td>P00110942</td>\n",
       "      <td>F</td>\n",
       "      <td>26-35</td>\n",
       "      <td>35</td>\n",
       "      <td>1</td>\n",
       "      <td>Andhra Pradesh</td>\n",
       "      <td>Southern</td>\n",
       "      <td>Govt</td>\n",
       "      <td>Auto</td>\n",
       "      <td>3</td>\n",
       "      <td>R$ 23,934.00</td>\n",
       "    </tr>\n",
       "    <tr>\n",
       "      <th>2</th>\n",
       "      <td>1001990</td>\n",
       "      <td>Bindu</td>\n",
       "      <td>P00118542</td>\n",
       "      <td>F</td>\n",
       "      <td>26-35</td>\n",
       "      <td>35</td>\n",
       "      <td>1</td>\n",
       "      <td>Uttar Pradesh</td>\n",
       "      <td>Central</td>\n",
       "      <td>Automobile</td>\n",
       "      <td>Auto</td>\n",
       "      <td>3</td>\n",
       "      <td>R$ 23,924.00</td>\n",
       "    </tr>\n",
       "    <tr>\n",
       "      <th>3</th>\n",
       "      <td>1001425</td>\n",
       "      <td>Sudevi</td>\n",
       "      <td>P00237842</td>\n",
       "      <td>M</td>\n",
       "      <td>0-17</td>\n",
       "      <td>16</td>\n",
       "      <td>0</td>\n",
       "      <td>Karnataka</td>\n",
       "      <td>Southern</td>\n",
       "      <td>Construction</td>\n",
       "      <td>Auto</td>\n",
       "      <td>2</td>\n",
       "      <td>R$ 23,912.00</td>\n",
       "    </tr>\n",
       "    <tr>\n",
       "      <th>4</th>\n",
       "      <td>1000588</td>\n",
       "      <td>Joni</td>\n",
       "      <td>P00057942</td>\n",
       "      <td>M</td>\n",
       "      <td>26-35</td>\n",
       "      <td>28</td>\n",
       "      <td>1</td>\n",
       "      <td>Gujarat</td>\n",
       "      <td>Western</td>\n",
       "      <td>Food Processing</td>\n",
       "      <td>Auto</td>\n",
       "      <td>2</td>\n",
       "      <td>R$ 23,877.00</td>\n",
       "    </tr>\n",
       "    <tr>\n",
       "      <th>5</th>\n",
       "      <td>1000588</td>\n",
       "      <td>Joni</td>\n",
       "      <td>P00057942</td>\n",
       "      <td>M</td>\n",
       "      <td>26-35</td>\n",
       "      <td>28</td>\n",
       "      <td>1</td>\n",
       "      <td>Himachal Pradesh</td>\n",
       "      <td>Northern</td>\n",
       "      <td>Food Processing</td>\n",
       "      <td>Auto</td>\n",
       "      <td>1</td>\n",
       "      <td>R$ 23,877.00</td>\n",
       "    </tr>\n",
       "    <tr>\n",
       "      <th>6</th>\n",
       "      <td>1001132</td>\n",
       "      <td>Balk</td>\n",
       "      <td>P00018042</td>\n",
       "      <td>F</td>\n",
       "      <td>18-25</td>\n",
       "      <td>25</td>\n",
       "      <td>1</td>\n",
       "      <td>Uttar Pradesh</td>\n",
       "      <td>Central</td>\n",
       "      <td>Lawyer</td>\n",
       "      <td>Auto</td>\n",
       "      <td>4</td>\n",
       "      <td>R$ 23,841.00</td>\n",
       "    </tr>\n",
       "    <tr>\n",
       "      <th>7</th>\n",
       "      <td>1002092</td>\n",
       "      <td>Shivangi</td>\n",
       "      <td>P00273442</td>\n",
       "      <td>F</td>\n",
       "      <td>55+</td>\n",
       "      <td>61</td>\n",
       "      <td>0</td>\n",
       "      <td>Maharashtra</td>\n",
       "      <td>Western</td>\n",
       "      <td>IT Sector</td>\n",
       "      <td>Auto</td>\n",
       "      <td>1</td>\n",
       "      <td>R$ 9,453.61</td>\n",
       "    </tr>\n",
       "    <tr>\n",
       "      <th>8</th>\n",
       "      <td>1003224</td>\n",
       "      <td>Kushal</td>\n",
       "      <td>P00205642</td>\n",
       "      <td>M</td>\n",
       "      <td>26-35</td>\n",
       "      <td>35</td>\n",
       "      <td>0</td>\n",
       "      <td>Uttar Pradesh</td>\n",
       "      <td>Central</td>\n",
       "      <td>Govt</td>\n",
       "      <td>Auto</td>\n",
       "      <td>2</td>\n",
       "      <td>R$ 23,809.00</td>\n",
       "    </tr>\n",
       "    <tr>\n",
       "      <th>9</th>\n",
       "      <td>1003650</td>\n",
       "      <td>Ginny</td>\n",
       "      <td>P00031142</td>\n",
       "      <td>F</td>\n",
       "      <td>26-35</td>\n",
       "      <td>26</td>\n",
       "      <td>1</td>\n",
       "      <td>Andhra Pradesh</td>\n",
       "      <td>Southern</td>\n",
       "      <td>Media</td>\n",
       "      <td>Auto</td>\n",
       "      <td>4</td>\n",
       "      <td>R$ 23,799.99</td>\n",
       "    </tr>\n",
       "  </tbody>\n",
       "</table>\n",
       "</div>"
      ],
      "text/plain": [
       "  ID_do_Usuário Nome_do_cliente ID_Produto Gênero Faixa etária  Idade  \\\n",
       "0       1002903       Sanskriti  P00125942      F        26-35     28   \n",
       "1       1000732          Kartik  P00110942      F        26-35     35   \n",
       "2       1001990           Bindu  P00118542      F        26-35     35   \n",
       "3       1001425          Sudevi  P00237842      M         0-17     16   \n",
       "4       1000588            Joni  P00057942      M        26-35     28   \n",
       "5       1000588            Joni  P00057942      M        26-35     28   \n",
       "6       1001132            Balk  P00018042      F        18-25     25   \n",
       "7       1002092        Shivangi  P00273442      F          55+     61   \n",
       "8       1003224          Kushal  P00205642      M        26-35     35   \n",
       "9       1003650           Ginny  P00031142      F        26-35     26   \n",
       "\n",
       "   Estado Civil            Estado      Zona         Ocupação  \\\n",
       "0             0       Maharashtra   Western       Healthcare   \n",
       "1             1    Andhra Pradesh  Southern             Govt   \n",
       "2             1     Uttar Pradesh   Central       Automobile   \n",
       "3             0         Karnataka  Southern     Construction   \n",
       "4             1           Gujarat   Western  Food Processing   \n",
       "5             1  Himachal Pradesh  Northern  Food Processing   \n",
       "6             1     Uttar Pradesh   Central           Lawyer   \n",
       "7             0       Maharashtra   Western        IT Sector   \n",
       "8             0     Uttar Pradesh   Central             Govt   \n",
       "9             1    Andhra Pradesh  Southern            Media   \n",
       "\n",
       "  Categoria_Produto  Pedido Valor_Total_Pedido  \n",
       "0              Auto       1       R$ 23,952.00  \n",
       "1              Auto       3       R$ 23,934.00  \n",
       "2              Auto       3       R$ 23,924.00  \n",
       "3              Auto       2       R$ 23,912.00  \n",
       "4              Auto       2       R$ 23,877.00  \n",
       "5              Auto       1       R$ 23,877.00  \n",
       "6              Auto       4       R$ 23,841.00  \n",
       "7              Auto       1        R$ 9,453.61  \n",
       "8              Auto       2       R$ 23,809.00  \n",
       "9              Auto       4       R$ 23,799.99  "
      ]
     },
     "execution_count": 41,
     "metadata": {},
     "output_type": "execute_result"
    }
   ],
   "source": [
    "df.head(10)"
   ]
  },
  {
   "cell_type": "code",
   "execution_count": 8,
   "metadata": {},
   "outputs": [
    {
     "name": "stdout",
     "output_type": "stream",
     "text": [
      "Index(['ID_do_Usuário', 'Nome_do_cliente', 'ID_Produto', 'Gênero',\n",
      "       'Faixa etária', 'Idade', 'Estado Civil', 'Estado', 'Zona', 'Ocupação',\n",
      "       'Categoria_Produto', 'Pedido', 'Valor_Total_Pedido', '1Estado',\n",
      "       'sem nome1'],\n",
      "      dtype='object')\n"
     ]
    }
   ],
   "source": [
    "# para saber o nome das colunas:\n",
    "\n",
    "df.columns\n",
    "\n",
    "print(df.columns)"
   ]
  },
  {
   "cell_type": "code",
   "execution_count": 9,
   "metadata": {},
   "outputs": [
    {
     "data": {
      "text/plain": [
       "ID_do_Usuário           int64\n",
       "Nome_do_cliente        object\n",
       "ID_Produto             object\n",
       "Gênero                 object\n",
       "Faixa etária           object\n",
       "Idade                   int64\n",
       "Estado Civil            int64\n",
       "Estado                 object\n",
       "Zona                   object\n",
       "Ocupação               object\n",
       "Categoria_Produto      object\n",
       "Pedido                  int64\n",
       "Valor_Total_Pedido    float64\n",
       "1Estado               float64\n",
       "sem nome1             float64\n",
       "dtype: object"
      ]
     },
     "execution_count": 9,
     "metadata": {},
     "output_type": "execute_result"
    }
   ],
   "source": [
    "# para saber o tipo de dados de uma colunas:\n",
    "\n",
    "df.dtypes"
   ]
  },
  {
   "cell_type": "code",
   "execution_count": 10,
   "metadata": {},
   "outputs": [],
   "source": [
    "# Alterar alterar o tipo do ID usuario para objetivo:\n",
    "\n",
    "df[\"ID_do_Usuário\"] = df[\"ID_do_Usuário\"].astype(\"object\")\n"
   ]
  },
  {
   "cell_type": "code",
   "execution_count": 11,
   "metadata": {},
   "outputs": [
    {
     "data": {
      "text/plain": [
       "ID_do_Usuário          object\n",
       "Nome_do_cliente        object\n",
       "ID_Produto             object\n",
       "Gênero                 object\n",
       "Faixa etária           object\n",
       "Idade                   int64\n",
       "Estado Civil            int64\n",
       "Estado                 object\n",
       "Zona                   object\n",
       "Ocupação               object\n",
       "Categoria_Produto      object\n",
       "Pedido                  int64\n",
       "Valor_Total_Pedido    float64\n",
       "1Estado               float64\n",
       "sem nome1             float64\n",
       "dtype: object"
      ]
     },
     "execution_count": 11,
     "metadata": {},
     "output_type": "execute_result"
    }
   ],
   "source": [
    "# para saber o tipo de dados de uma colunas:\n",
    "\n",
    "df.dtypes"
   ]
  },
  {
   "cell_type": "code",
   "execution_count": 12,
   "metadata": {},
   "outputs": [
    {
     "data": {
      "text/html": [
       "<div>\n",
       "<style scoped>\n",
       "    .dataframe tbody tr th:only-of-type {\n",
       "        vertical-align: middle;\n",
       "    }\n",
       "\n",
       "    .dataframe tbody tr th {\n",
       "        vertical-align: top;\n",
       "    }\n",
       "\n",
       "    .dataframe thead th {\n",
       "        text-align: right;\n",
       "    }\n",
       "</style>\n",
       "<table border=\"1\" class=\"dataframe\">\n",
       "  <thead>\n",
       "    <tr style=\"text-align: right;\">\n",
       "      <th></th>\n",
       "      <th>ID_do_Usuário</th>\n",
       "      <th>Nome_do_cliente</th>\n",
       "      <th>ID_Produto</th>\n",
       "      <th>Gênero</th>\n",
       "      <th>Faixa etária</th>\n",
       "      <th>Idade</th>\n",
       "      <th>Estado Civil</th>\n",
       "      <th>Estado</th>\n",
       "      <th>Zona</th>\n",
       "      <th>Ocupação</th>\n",
       "      <th>Categoria_Produto</th>\n",
       "      <th>Pedido</th>\n",
       "      <th>Valor_Total_Pedido</th>\n",
       "      <th>1Estado</th>\n",
       "      <th>sem nome1</th>\n",
       "    </tr>\n",
       "  </thead>\n",
       "  <tbody>\n",
       "    <tr>\n",
       "      <th>0</th>\n",
       "      <td>1002903</td>\n",
       "      <td>Sanskriti</td>\n",
       "      <td>P00125942</td>\n",
       "      <td>F</td>\n",
       "      <td>26-35</td>\n",
       "      <td>28</td>\n",
       "      <td>0</td>\n",
       "      <td>Maharashtra</td>\n",
       "      <td>Western</td>\n",
       "      <td>Healthcare</td>\n",
       "      <td>Auto</td>\n",
       "      <td>1</td>\n",
       "      <td>23952.0</td>\n",
       "      <td>NaN</td>\n",
       "      <td>NaN</td>\n",
       "    </tr>\n",
       "    <tr>\n",
       "      <th>1</th>\n",
       "      <td>1000732</td>\n",
       "      <td>Kartik</td>\n",
       "      <td>P00110942</td>\n",
       "      <td>F</td>\n",
       "      <td>26-35</td>\n",
       "      <td>35</td>\n",
       "      <td>1</td>\n",
       "      <td>Andhra Pradesh</td>\n",
       "      <td>Southern</td>\n",
       "      <td>Govt</td>\n",
       "      <td>Auto</td>\n",
       "      <td>3</td>\n",
       "      <td>23934.0</td>\n",
       "      <td>NaN</td>\n",
       "      <td>NaN</td>\n",
       "    </tr>\n",
       "    <tr>\n",
       "      <th>2</th>\n",
       "      <td>1001990</td>\n",
       "      <td>Bindu</td>\n",
       "      <td>P00118542</td>\n",
       "      <td>F</td>\n",
       "      <td>26-35</td>\n",
       "      <td>35</td>\n",
       "      <td>1</td>\n",
       "      <td>Uttar Pradesh</td>\n",
       "      <td>Central</td>\n",
       "      <td>Automobile</td>\n",
       "      <td>Auto</td>\n",
       "      <td>3</td>\n",
       "      <td>23924.0</td>\n",
       "      <td>NaN</td>\n",
       "      <td>NaN</td>\n",
       "    </tr>\n",
       "    <tr>\n",
       "      <th>3</th>\n",
       "      <td>1001425</td>\n",
       "      <td>Sudevi</td>\n",
       "      <td>P00237842</td>\n",
       "      <td>M</td>\n",
       "      <td>0-17</td>\n",
       "      <td>16</td>\n",
       "      <td>0</td>\n",
       "      <td>Karnataka</td>\n",
       "      <td>Southern</td>\n",
       "      <td>Construction</td>\n",
       "      <td>Auto</td>\n",
       "      <td>2</td>\n",
       "      <td>23912.0</td>\n",
       "      <td>NaN</td>\n",
       "      <td>NaN</td>\n",
       "    </tr>\n",
       "    <tr>\n",
       "      <th>4</th>\n",
       "      <td>1000588</td>\n",
       "      <td>Joni</td>\n",
       "      <td>P00057942</td>\n",
       "      <td>M</td>\n",
       "      <td>26-35</td>\n",
       "      <td>28</td>\n",
       "      <td>1</td>\n",
       "      <td>Gujarat</td>\n",
       "      <td>Western</td>\n",
       "      <td>Food Processing</td>\n",
       "      <td>Auto</td>\n",
       "      <td>2</td>\n",
       "      <td>23877.0</td>\n",
       "      <td>NaN</td>\n",
       "      <td>NaN</td>\n",
       "    </tr>\n",
       "  </tbody>\n",
       "</table>\n",
       "</div>"
      ],
      "text/plain": [
       "  ID_do_Usuário Nome_do_cliente ID_Produto Gênero Faixa etária  Idade  \\\n",
       "0       1002903       Sanskriti  P00125942      F        26-35     28   \n",
       "1       1000732          Kartik  P00110942      F        26-35     35   \n",
       "2       1001990           Bindu  P00118542      F        26-35     35   \n",
       "3       1001425          Sudevi  P00237842      M         0-17     16   \n",
       "4       1000588            Joni  P00057942      M        26-35     28   \n",
       "\n",
       "   Estado Civil          Estado      Zona         Ocupação Categoria_Produto  \\\n",
       "0             0     Maharashtra   Western       Healthcare              Auto   \n",
       "1             1  Andhra Pradesh  Southern             Govt              Auto   \n",
       "2             1   Uttar Pradesh   Central       Automobile              Auto   \n",
       "3             0       Karnataka  Southern     Construction              Auto   \n",
       "4             1         Gujarat   Western  Food Processing              Auto   \n",
       "\n",
       "   Pedido  Valor_Total_Pedido  1Estado  sem nome1  \n",
       "0       1             23952.0      NaN        NaN  \n",
       "1       3             23934.0      NaN        NaN  \n",
       "2       3             23924.0      NaN        NaN  \n",
       "3       2             23912.0      NaN        NaN  \n",
       "4       2             23877.0      NaN        NaN  "
      ]
     },
     "execution_count": 12,
     "metadata": {},
     "output_type": "execute_result"
    }
   ],
   "source": [
    "df.head()"
   ]
  },
  {
   "cell_type": "code",
   "execution_count": 13,
   "metadata": {},
   "outputs": [
    {
     "data": {
      "text/plain": [
       "ID_do_Usuário             0\n",
       "Nome_do_cliente           0\n",
       "ID_Produto                0\n",
       "Gênero                    0\n",
       "Faixa etária              0\n",
       "Idade                     0\n",
       "Estado Civil              0\n",
       "Estado                    0\n",
       "Zona                      0\n",
       "Ocupação                  0\n",
       "Categoria_Produto         0\n",
       "Pedido                    0\n",
       "Valor_Total_Pedido       12\n",
       "1Estado               11251\n",
       "sem nome1             11251\n",
       "dtype: int64"
      ]
     },
     "execution_count": 13,
     "metadata": {},
     "output_type": "execute_result"
    }
   ],
   "source": [
    "# Consulta valores faltantes.\n",
    "\n",
    "df.isnull().sum()"
   ]
  },
  {
   "cell_type": "code",
   "execution_count": 14,
   "metadata": {},
   "outputs": [],
   "source": [
    "# Substituir o valor Nulo do valor total do pedido pr média.\n",
    "df[\"Valor_Total_Pedido\"]= df [\"Valor_Total_Pedido\"].fillna(df[\"Valor_Total_Pedido\"].mean())\n",
    "\n"
   ]
  },
  {
   "cell_type": "code",
   "execution_count": 15,
   "metadata": {},
   "outputs": [
    {
     "data": {
      "text/plain": [
       "ID_do_Usuário             0\n",
       "Nome_do_cliente           0\n",
       "ID_Produto                0\n",
       "Gênero                    0\n",
       "Faixa etária              0\n",
       "Idade                     0\n",
       "Estado Civil              0\n",
       "Estado                    0\n",
       "Zona                      0\n",
       "Ocupação                  0\n",
       "Categoria_Produto         0\n",
       "Pedido                    0\n",
       "Valor_Total_Pedido        0\n",
       "1Estado               11251\n",
       "sem nome1             11251\n",
       "dtype: int64"
      ]
     },
     "execution_count": 15,
     "metadata": {},
     "output_type": "execute_result"
    }
   ],
   "source": [
    "df.isnull().sum()"
   ]
  },
  {
   "cell_type": "code",
   "execution_count": 16,
   "metadata": {},
   "outputs": [],
   "source": [
    "# Exclui oas colunas 1Estado e Sem nome1 pois não tinham registros.\n",
    "\n",
    "df = df.drop(columns=[\"1Estado\", \"sem nome1\"])\n",
    "\n"
   ]
  },
  {
   "cell_type": "markdown",
   "metadata": {},
   "source": [
    "Visualizar dados:"
   ]
  },
  {
   "cell_type": "code",
   "execution_count": 17,
   "metadata": {},
   "outputs": [
    {
     "data": {
      "text/plain": [
       "Nome_do_cliente\n",
       "Vishakha       42\n",
       "Shreyshi       32\n",
       "Sudevi         30\n",
       "Akshat         29\n",
       "Alejandro      28\n",
       "               ..\n",
       "Overcash        2\n",
       "Madan Mohan     2\n",
       "Madhav          2\n",
       "Laal            1\n",
       "Bindu           1\n",
       "Name: count, Length: 1250, dtype: int64"
      ]
     },
     "execution_count": 17,
     "metadata": {},
     "output_type": "execute_result"
    }
   ],
   "source": [
    "df[\"Nome_do_cliente\"].value_counts(ascending=False)\n",
    "\n",
    "# .value_counts(): Este método conta o número de ocorrências de cada valor único na coluna.\n",
    "# ascending=False: Este argumento ordena os resultados de forma decrescente."
   ]
  },
  {
   "cell_type": "code",
   "execution_count": 18,
   "metadata": {},
   "outputs": [],
   "source": [
    "# Visualização em grafico.\n",
    "\n",
    "import matplotlib.pyplot as plt"
   ]
  },
  {
   "cell_type": "code",
   "execution_count": 19,
   "metadata": {},
   "outputs": [],
   "source": [
    "# Visualização em grafico.\n",
    "\n",
    "import matplotlib.pyplot as plt\n",
    "import seaborn as sns"
   ]
  },
  {
   "cell_type": "code",
   "execution_count": 20,
   "metadata": {},
   "outputs": [
    {
     "name": "stdout",
     "output_type": "stream",
     "text": [
      "float64\n"
     ]
    }
   ],
   "source": [
    "print(df['Valor_Total_Pedido'].dtype)\n",
    "# Por estar no tipo object apresentou erro ao verificar as vendas"
   ]
  },
  {
   "cell_type": "code",
   "execution_count": 21,
   "metadata": {},
   "outputs": [],
   "source": [
    "# Convertendo a coluna para numérico.\n",
    "df['Valor_Total_Pedido'] = pd.to_numeric(df['Valor_Total_Pedido'], errors='coerce')"
   ]
  },
  {
   "cell_type": "code",
   "execution_count": 22,
   "metadata": {},
   "outputs": [
    {
     "name": "stdout",
     "output_type": "stream",
     "text": [
      "float64\n"
     ]
    }
   ],
   "source": [
    "print(df['Valor_Total_Pedido'].dtype)"
   ]
  },
  {
   "cell_type": "code",
   "execution_count": 23,
   "metadata": {},
   "outputs": [
    {
     "name": "stdout",
     "output_type": "stream",
     "text": [
      "      ID_do_Usuário Nome_do_cliente ID_Produto Gênero Faixa etária  Idade  \\\n",
      "0           1002903       Sanskriti  P00125942      F        26-35     28   \n",
      "1           1000732          Kartik  P00110942      F        26-35     35   \n",
      "2           1001990           Bindu  P00118542      F        26-35     35   \n",
      "3           1001425          Sudevi  P00237842      M         0-17     16   \n",
      "4           1000588            Joni  P00057942      M        26-35     28   \n",
      "...             ...             ...        ...    ...          ...    ...   \n",
      "11246       1000695         Manning  P00296942      M        18-25     19   \n",
      "11247       1004089     Reichenbach  P00171342      M        26-35     33   \n",
      "11248       1001209           Oshin  P00201342      F        36-45     40   \n",
      "11249       1004023          Noonan  P00059442      M        36-45     37   \n",
      "11250       1002744         Brumley  P00281742      F        18-25     19   \n",
      "\n",
      "       Estado Civil          Estado      Zona         Ocupação  \\\n",
      "0                 0     Maharashtra   Western       Healthcare   \n",
      "1                 1  Andhra Pradesh  Southern             Govt   \n",
      "2                 1   Uttar Pradesh   Central       Automobile   \n",
      "3                 0       Karnataka  Southern     Construction   \n",
      "4                 1         Gujarat   Western  Food Processing   \n",
      "...             ...             ...       ...              ...   \n",
      "11246             1     Maharashtra   Western         Chemical   \n",
      "11247             0         Haryana  Northern       Healthcare   \n",
      "11248             0  Madhya Pradesh   Central          Textile   \n",
      "11249             0       Karnataka  Southern      Agriculture   \n",
      "11250             0     Maharashtra   Western       Healthcare   \n",
      "\n",
      "      Categoria_Produto  Pedido Valor_Total_Pedido  \n",
      "0                  Auto       1       R$ 23,952.00  \n",
      "1                  Auto       3       R$ 23,934.00  \n",
      "2                  Auto       3       R$ 23,924.00  \n",
      "3                  Auto       2       R$ 23,912.00  \n",
      "4                  Auto       2       R$ 23,877.00  \n",
      "...                 ...     ...                ...  \n",
      "11246            Office       4          R$ 370.00  \n",
      "11247        Veterinary       3          R$ 367.00  \n",
      "11248            Office       4          R$ 213.00  \n",
      "11249            Office       3          R$ 206.00  \n",
      "11250            Office       3          R$ 188.00  \n",
      "\n",
      "[11251 rows x 13 columns]\n"
     ]
    }
   ],
   "source": [
    "# Vendas por Gênero:\n",
    "df['Valor_Total_Pedido'] = df['Valor_Total_Pedido'].apply(lambda x: f'R$ {x:,.2f}')\n",
    "\n",
    "print(df)"
   ]
  },
  {
   "cell_type": "code",
   "execution_count": 35,
   "metadata": {},
   "outputs": [
    {
     "name": "stderr",
     "output_type": "stream",
     "text": [
      "C:\\Users\\Jéssica Cristina\\AppData\\Local\\Temp\\ipykernel_2492\\1150058574.py:4: FutureWarning: \n",
      "\n",
      "Passing `palette` without assigning `hue` is deprecated and will be removed in v0.14.0. Assign the `x` variable to `hue` and set `legend=False` for the same effect.\n",
      "\n",
      "  sns.countplot(x='Gênero', data=df, palette={'M': 'blue', 'F': 'pink'})\n"
     ]
    },
    {
     "data": {
      "image/png": "[encoded data removed]",
      "text/plain": [
       "<Figure size 2000x500 with 1 Axes>"
      ]
     },
     "metadata": {},
     "output_type": "display_data"
    }
   ],
   "source": [
    "# Gráfico de vendas por Gênero:\n",
    "\n",
    "# Gráfico de vendas por Gênero:\n",
    "sns.countplot(x='Gênero', data=df, palette={'M': 'blue', 'F': 'pink'})\n",
    "\n",
    "# Adicionando o título\n",
    "plt.title('Vendas por Gênero')\n",
    "\n",
    "# Exibindo o gráfico\n",
    "plt.show()"
   ]
  },
  {
   "cell_type": "code",
   "execution_count": 37,
   "metadata": {},
   "outputs": [
    {
     "name": "stderr",
     "output_type": "stream",
     "text": [
      "C:\\Users\\Jéssica Cristina\\AppData\\Local\\Temp\\ipykernel_2492\\672244292.py:1: FutureWarning: \n",
      "\n",
      "Passing `palette` without assigning `hue` is deprecated and will be removed in v0.14.0. Assign the `x` variable to `hue` and set `legend=False` for the same effect.\n",
      "\n",
      "  ax = sns.countplot(x = 'Gênero', data = df, palette={'M': 'blue', 'F': 'pink'})\n"
     ]
    },
    {
     "data": {
      "image/png": "[encoded data removed]",
      "text/plain": [
       "<Figure size 2000x500 with 1 Axes>"
      ]
     },
     "metadata": {},
     "output_type": "display_data"
    }
   ],
   "source": [
    "ax = sns.countplot(x = 'Gênero', data = df, palette={'M': 'blue', 'F': 'pink'})\n",
    "# sns.countplot(x='Gênero', data=df): Cria um gráfico de barras para contar o número de ocorrências de cada categoria na coluna 'Gênero' do DataFrame df.\n",
    "\n",
    "for bars in ax.containers:\n",
    "    #for bars in ax.containers:: Este loop percorre todos os containers de barras do gráfico.\n",
    "    ax.bar_label(bars)\n",
    "    # ax.bar_label(bars): Para cada container de barras, o método bar_label() do Matplotlib é chamado. \n",
    "    # Esse método adiciona rótulos (valores) sobre as barras, ou seja, ele coloca o número de ocorrências de cada categoria diretamente em cima de cada barra.\n"
   ]
  },
  {
   "cell_type": "markdown",
   "metadata": {},
   "source": [
    "Na figura mostra que o público feminino é que mais compram."
   ]
  },
  {
   "cell_type": "code",
   "execution_count": 26,
   "metadata": {},
   "outputs": [
    {
     "data": {
      "image/png": "[encoded data removed]",
      "text/plain": [
       "<Figure size 640x480 with 1 Axes>"
      ]
     },
     "metadata": {},
     "output_type": "display_data"
    }
   ],
   "source": [
    "ax = sns.countplot(data = df, x = 'Faixa etária', hue = 'Gênero')\n",
    "# ax = sns.countplot(data = df, x = 'Faixa etária', hue = 'Gênero')Cria um gráfico de barras (countplot) onde:\n",
    "# O eixo x mostra as categorias da coluna 'Faixa etária' do DataFrame df.\n",
    "#O argumento hue (cor) usa a coluna 'Gênero' para separar as barras por diferentes cores, representando as categorias de gênero (por exemplo, \"Masculino\", \"Feminino\").\n",
    "\n",
    "\n",
    "for bars in ax.containers:\n",
    "   # for bars in ax.containers: ax.containers acessa as barras desenhadas pelo gráfico.\n",
    "   \n",
    "    ax.bar_label(bars)\n",
    "    # ax.bar_label(bars): Para cada conjunto de barras, ax.bar_label(bars) coloca o número total de ocorrências em cima de cada barra."
   ]
  },
  {
   "cell_type": "markdown",
   "metadata": {},
   "source": [
    "No gráfico acima nota-se que as mulheres entre 26 à 35 anos compram mais, já o público masculino os que mais compram são entre os 36 a 45 anos."
   ]
  },
  {
   "cell_type": "code",
   "execution_count": 38,
   "metadata": {},
   "outputs": [
    {
     "name": "stderr",
     "output_type": "stream",
     "text": [
      "C:\\Users\\Jéssica Cristina\\AppData\\Local\\Temp\\ipykernel_2492\\2639723423.py:7: FutureWarning: \n",
      "\n",
      "Passing `palette` without assigning `hue` is deprecated and will be removed in v0.14.0. Assign the `x` variable to `hue` and set `legend=False` for the same effect.\n",
      "\n",
      "  sns.barplot(data=Vendas_por_estados, x='Estado', y='Pedido', palette='viridis');  # 'viridis' é uma paleta de cores, mas pode ser substituída;\n"
     ]
    },
    {
     "data": {
      "image/png": "[encoded data removed]",
      "text/plain": [
       "<Figure size 1500x500 with 1 Axes>"
      ]
     },
     "metadata": {},
     "output_type": "display_data"
    }
   ],
   "source": [
    "# Vendas para os 10 melhores Estados.\n",
    "\n",
    "Vendas_por_estados = df.groupby(['Estado'], as_index=False)['Pedido'].sum().sort_values(by='Pedido', ascending=False).head(10)\n",
    "# .head(10): Seleciona os 10 estados com maior total de pedidos.\n",
    "sns.set(rc={'figure.figsize':(15,5)}) # sns.set(rc={'figure.figsize':(15,5)}): Define o tamanho do gráfico para 15x5 polegadas.\n",
    "# Criando o gráfico de barras com uma paleta de cores\n",
    "sns.barplot(data=Vendas_por_estados, x='Estado', y='Pedido', palette='viridis');  # 'viridis' é uma paleta de cores, mas pode ser substituída;\n"
   ]
  },
  {
   "cell_type": "markdown",
   "metadata": {},
   "source": [
    "Nota-se que as vendas são maiores para o estado Uttar Pradesh"
   ]
  },
  {
   "cell_type": "code",
   "execution_count": 45,
   "metadata": {},
   "outputs": [
    {
     "name": "stderr",
     "output_type": "stream",
     "text": [
      "C:\\Users\\Jéssica Cristina\\AppData\\Local\\Temp\\ipykernel_2492\\1291309724.py:8: FutureWarning: \n",
      "\n",
      "Passing `palette` without assigning `hue` is deprecated and will be removed in v0.14.0. Assign the `x` variable to `hue` and set `legend=False` for the same effect.\n",
      "\n",
      "  ax = sns.countplot(data=df, x='Ocupação', palette='Set2', order=ocupacao_ordem)\n"
     ]
    },
    {
     "data": {
      "image/png": "[encoded data removed]",
      "text/plain": [
       "<Figure size 2000x500 with 1 Axes>"
      ]
     },
     "metadata": {},
     "output_type": "display_data"
    }
   ],
   "source": [
    "# Vendas por ocupação:\n",
    "sns.set(rc={'figure.figsize':(20,5)})  # Definindo o tamanho da figura\n",
    "\n",
    "# Definindo a ordem das ocupações, da mais frequente para a menos frequente\n",
    "ocupacao_ordem = df['Ocupação'].value_counts().index\n",
    "\n",
    "# Criando o gráfico de contagem\n",
    "ax = sns.countplot(data=df, x='Ocupação', palette='Set2', order=ocupacao_ordem)\n",
    "\n",
    "# Adicionando as etiquetas nas barras\n",
    "for bars in ax.containers:\n",
    "    ax.bar_label(bars)\n",
    "\n",
    "# Exibindo o gráfico\n",
    "plt.show()\n"
   ]
  },
  {
   "cell_type": "markdown",
   "metadata": {},
   "source": [
    "As pessoas do cargo de IT Sector (Setor de TI) são os que mais compram, seguido por Healthcare, profissionais dedicadas ao cuidado, prevenção, diagnóstico e tratamento de doenças."
   ]
  },
  {
   "cell_type": "code",
   "execution_count": 50,
   "metadata": {},
   "outputs": [
    {
     "name": "stderr",
     "output_type": "stream",
     "text": [
      "C:\\Users\\Jéssica Cristina\\AppData\\Local\\Temp\\ipykernel_2492\\1744644360.py:8: FutureWarning: \n",
      "\n",
      "Passing `palette` without assigning `hue` is deprecated and will be removed in v0.14.0. Assign the `x` variable to `hue` and set `legend=False` for the same effect.\n",
      "\n",
      "  ax = sns.countplot(data=df[df['Categoria_Produto'].isin(top_10_produtos)], x='Categoria_Produto', palette='Set2')\n"
     ]
    },
    {
     "data": {
      "image/png": "[encoded data removed]",
      "text/plain": [
       "<Figure size 2000x500 with 1 Axes>"
      ]
     },
     "metadata": {},
     "output_type": "display_data"
    }
   ],
   "source": [
    "# Vendas por categoria de produto:\n",
    "sns.set(rc={'figure.figsize':(20,5)})  # Definindo o tamanho da figura\n",
    "\n",
    "# Agrupando os dados para pegar os 10 produtos mais vendidos\n",
    "top_10_produtos = df.groupby('Categoria_Produto')['Valor_Total_Pedido'].sum().sort_values(ascending=False).head(10).index\n",
    "\n",
    "# Criando o gráfico de contagem para as 10 categorias de produto mais vendidas\n",
    "ax = sns.countplot(data=df[df['Categoria_Produto'].isin(top_10_produtos)], x='Categoria_Produto', palette='Set2')\n",
    "\n",
    "# Adicionando as etiquetas nas barras\n",
    "for bars in ax.containers:\n",
    "    ax.bar_label(bars)\n",
    "\n",
    "# Exibindo o gráfico\n",
    "plt.show()"
   ]
  },
  {
   "cell_type": "markdown",
   "metadata": {},
   "source": [
    "Produtos mais vendido."
   ]
  },
  {
   "cell_type": "code",
   "execution_count": null,
   "metadata": {},
   "outputs": [],
   "source": []
  }
 ],
 "metadata": {
  "kernelspec": {
   "display_name": "Python 3",
   "language": "python",
   "name": "python3"
  },
  "language_info": {
   "codemirror_mode": {
    "name": "ipython",
    "version": 3
   },
   "file_extension": ".py",
   "mimetype": "text/x-python",
   "name": "python",
   "nbconvert_exporter": "python",
   "pygments_lexer": "ipython3",
   "version": "3.13.1"
  }
 },
 "nbformat": 4,
 "nbformat_minor": 2
}
